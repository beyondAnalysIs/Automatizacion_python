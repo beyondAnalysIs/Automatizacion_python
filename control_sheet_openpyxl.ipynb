{
 "cells": [
  {
   "cell_type": "code",
   "execution_count": 18,
   "id": "8c8b04ae",
   "metadata": {},
   "outputs": [],
   "source": [
    "from openpyxl import Workbook # para crear un archivo de Excel\n",
    "from openpyxl.styles import Font, PatternFill, Border, Side # para dar formato a las celdas\n",
    "from openpyxl.chart import BarChart, Reference # para crear gráficos\n",
    "from openpyxl.chart.label import DataLabelList # para etiquetas de datos en gráficos\n"
   ]
  },
  {
   "cell_type": "code",
   "execution_count": 2,
   "id": "e9e866f0",
   "metadata": {},
   "outputs": [],
   "source": [
    "# creando un nuevo libro de trabajo y seleccionando la hoja activa\n",
    "wb = Workbook() \n",
    "ws = wb.active \n",
    "ws.title = \"Ventas_2025\" #nombre de la hoja\n"
   ]
  },
  {
   "cell_type": "code",
   "execution_count": 3,
   "id": "3ad42087",
   "metadata": {},
   "outputs": [
    {
     "name": "stderr",
     "output_type": "stream",
     "text": [
      "C:\\Users\\ander\\AppData\\Local\\Temp\\ipykernel_18072\\3309516824.py:13: DeprecationWarning: Call to deprecated function copy (Use copy(obj) or cell.obj = cell.obj + other).\n",
      "  celda.alignment = ws.cell(row=1, column=columna).alignment.copy(horizontal='center') # centrando el texto\n"
     ]
    }
   ],
   "source": [
    "# creando una tabla de ventas encabezados con formato\n",
    "encabezados = [\"ID\", \"Producto\", \"Cantidad Vendida\", \"Precio Unitario\", \"Total\"]\n",
    "for columna, encabezado in enumerate(encabezados, start=1): # comenzando desde la columna 1 porque Excel empieza desde 1\n",
    "    celda = ws.cell(row=1, column=columna, value=encabezado)\n",
    "    celda.font = Font(bold=True, color=\"FFFFFF\") # texto en negrita y color blanco\n",
    "    celda.fill = PatternFill(start_color=\"4F81BD\", \n",
    "                             end_color=\"4F81BD\",\n",
    "                             fill_type=\"solid\") # fondo azul\n",
    "    celda.border = Border(left=Side(style='thin'),\n",
    "                          right=Side(style='thin'), \n",
    "                          top=Side(style='thin'), \n",
    "                          bottom=Side(style='thin'))# borde delgado\n",
    "    celda.alignment = ws.cell(row=1, column=columna).alignment.copy(horizontal='center') # centrando el texto\n",
    "\n"
   ]
  },
  {
   "cell_type": "code",
   "execution_count": 4,
   "id": "07bba503",
   "metadata": {},
   "outputs": [],
   "source": [
    "\n",
    "datos = [\n",
    "    [1, \"Auriculares\", 25, 18.50],\n",
    "    [2, \"Webcam HD\", 10, 45.99],\n",
    "    [3, \"Router WiFi\", 7, 72.00],\n",
    "    [4, \"Tablet 10''\", 12, 150.75],\n",
    "    [5, \"Smartwatch\", 20, 89.90], \n",
    "]\n",
    "\n",
    "# agregando datos a la hoja de trabajo\n",
    "for fila, datos_venta in enumerate(datos, start=2): # comenzando desde la fila 2 porque la fila 1 son los encabezados\n",
    "    for columna, dato in enumerate(datos_venta, start=1):\n",
    "        celda = ws.cell(row=fila, column=columna, value=dato)\n",
    "        celda.border = Border(left=Side(style='thin'),\n",
    "                              right=Side(style='thin'), \n",
    "                              top=Side(style='thin'), \n",
    "                              bottom=Side(style='thin')) # borde delgado\n",
    "\n"
   ]
  },
  {
   "cell_type": "code",
   "execution_count": 5,
   "id": "ab0066ae",
   "metadata": {},
   "outputs": [],
   "source": [
    "# formula para crear la columna Total\n",
    "for fila in range(2, len(datos) + 2): # comenzando desde la fila 2 hasta la última fila de datos\n",
    "    ws[f\"E{fila}\"] = f\"=C{fila}*D{fila}\" # multiplicando Cantidad Vendida por Precio Unitario\n",
    "    celda = ws[f\"E{fila}\"]\n",
    "    celda.font = Font(bold=True) # texto en negrita\n",
    "    celda.fill = PatternFill(start_color=\"D9EAD3\", \n",
    "                             end_color=\"D9EAD3\",\n",
    "                             fill_type=\"solid\") # fondo verde claro\n",
    "    celda.border = Border(left=Side(style='thin'), \n",
    "                          right=Side(style='thin'), \n",
    "                          top=Side(style='thin'), \n",
    "                          bottom=Side(style='thin')) # borde delgado \n",
    "  "
   ]
  },
  {
   "cell_type": "code",
   "execution_count": null,
   "id": "8803d473",
   "metadata": {},
   "outputs": [],
   "source": [
    "# Gráfico de barras\n",
    "# creando un gráfico de barras\n",
    "chart = BarChart()\n",
    "chart.title = \"Ventas por\\n Producto\"\n",
    "chart.x_axis.title = \"Producto\"\n",
    "chart.y_axis.title = \"Total Vendido\"\n",
    "title_font = Font(size=14)\n",
    "axis_title_font = Font(size=12)\n",
    "chart.style = 10 # estilo del gráfico\n",
    "chart.x_axis.majorGridlines = None # sin líneas de cuadrícula\n",
    "#chart.y_axis.majorGridlines = None # sin líneas de cuadrícula\n",
    "\n",
    "# agregando datos al gráfico\n",
    "data =  Reference(ws, min_col=5, \n",
    "                  min_row=1, \n",
    "                  max_row=len(datos) + 1, \n",
    "                  max_col=5) # columna Total\n",
    "\n",
    "cats = Reference(ws, min_col=2,\n",
    "                   min_row=2, \n",
    "                   max_row=len(datos) + 1) # columna Producto  \n",
    "\n",
    "chart.add_data(data, titles_from_data=True) # títulos de los datos desde la primera fila\n",
    "chart.set_categories(cats) # categorías desde la columna Producto \n",
    "\n",
    "# agregando el gráfico a la hoja de trabajo\n",
    "ws.add_chart(chart, \"G2\") # posición del gráfico en la hoja de trabajo\n",
    "\n",
    "chart.dataLabels = DataLabelList() # etiquetas de datos\n",
    "#chart.dataLabels.showVal = True # mostrar valores en el gráfico\n",
    "#chart.dataLabels.position = \"t\" # posición de las etiquetas de datos en la parte superior\n",
    "\n",
    "# Guardando el libro de trabajo\n",
    "wb.save(\"resumen_ventas_2025.xlsx\")  "
   ]
  },
  {
   "cell_type": "code",
   "execution_count": null,
   "id": "9ee6d2d3",
   "metadata": {},
   "outputs": [],
   "source": []
  }
 ],
 "metadata": {
  "kernelspec": {
   "display_name": "mi_env",
   "language": "python",
   "name": "python3"
  },
  "language_info": {
   "codemirror_mode": {
    "name": "ipython",
    "version": 3
   },
   "file_extension": ".py",
   "mimetype": "text/x-python",
   "name": "python",
   "nbconvert_exporter": "python",
   "pygments_lexer": "ipython3",
   "version": "3.12.2"
  }
 },
 "nbformat": 4,
 "nbformat_minor": 5
}
