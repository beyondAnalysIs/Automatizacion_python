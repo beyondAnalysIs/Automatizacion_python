{
 "cells": [
  {
   "cell_type": "markdown",
   "id": "54a5274f",
   "metadata": {},
   "source": [
    "            Unir los archivos de excel en uno solo"
   ]
  },
  {
   "cell_type": "code",
   "execution_count": null,
   "id": "baf5dd02",
   "metadata": {},
   "outputs": [
    {
     "name": "stdout",
     "output_type": "stream",
     "text": [
      "['C:\\\\Users\\\\ander\\\\Escritorio\\\\PYTHON\\\\Python 2025\\\\Automatizacion_python\\\\mi_env\\\\datos_ventas_2025-01.xlsx', 'C:\\\\Users\\\\ander\\\\Escritorio\\\\PYTHON\\\\Python 2025\\\\Automatizacion_python\\\\mi_env\\\\datos_ventas_2025-02.xlsx', 'C:\\\\Users\\\\ander\\\\Escritorio\\\\PYTHON\\\\Python 2025\\\\Automatizacion_python\\\\mi_env\\\\datos_ventas_2025-03.xlsx']\n"
     ]
    }
   ],
   "source": [
    "import pandas as pd\n",
    "import glob\n",
    "\n",
    "# con glob se pueden buscar archivos con patrones, el patron es el nombre del archivo seguido de un asterisco\n",
    "# el * indica que puede haber cualquier cosa en el medio\n",
    "archivos = glob.glob(r\"C:\\Users\\ander\\Escritorio\\PYTHON\\Python 2025\\Automatizacion_python\\mi_env\\datos_ventas_*.xlsx\") \n",
    "\n",
    "# archivos encontrados\n",
    "print(archivos)"
   ]
  },
  {
   "cell_type": "markdown",
   "id": "7956d007",
   "metadata": {},
   "source": [
    "Lista vacía que almacenará todos los DataFrames"
   ]
  },
  {
   "cell_type": "code",
   "execution_count": 2,
   "id": "0484066e",
   "metadata": {},
   "outputs": [
    {
     "name": "stdout",
     "output_type": "stream",
     "text": [
      "Archivo procesado: C:\\Users\\ander\\Escritorio\\PYTHON\\Python 2025\\Automatizacion_python\\mi_env\\datos_ventas_2025-01.xlsx\n",
      "Archivo procesado: C:\\Users\\ander\\Escritorio\\PYTHON\\Python 2025\\Automatizacion_python\\mi_env\\datos_ventas_2025-02.xlsx\n",
      "Archivo procesado: C:\\Users\\ander\\Escritorio\\PYTHON\\Python 2025\\Automatizacion_python\\mi_env\\datos_ventas_2025-03.xlsx\n"
     ]
    }
   ],
   "source": [
    "\n",
    "dfs = []\n",
    "for archivo in archivos: # recorrer cada archivo encontrado\n",
    "    # extraer el mes del nombre del archivo\n",
    "    mes = archivo.split(\"_\")[-1].split(\".\")[0] # split para separar el nombre del archivo por guiones bajos y luego por puntos\n",
    "    # leer el archivo Excel\n",
    "    df = pd.read_excel(archivo)\n",
    "    # agregar una nueva columna con el mes\n",
    "    df[\"Mes\"] = mes\n",
    "    # agregar el DataFrame a la lista   \n",
    "    dfs.append(df)\n",
    "    print(f\"Archivo procesado: {archivo}\")\n",
    "    \n",
    "    \n",
    "# concatenar todos los DataFrames en uno solo\n",
    "df_final = pd.concat(dfs, ignore_index=True) #ignore_index=True para que no se repitan los indices de los DataFrames originales\n",
    "\n",
    "# guardar el DataFrame final en un nuevo archivo Excel\n",
    "df_final.to_excel(\"datos_ventas_trimestre.xlsx\", index=False)"
   ]
  },
  {
   "cell_type": "code",
   "execution_count": 3,
   "id": "671691bb",
   "metadata": {},
   "outputs": [
    {
     "name": "stdout",
     "output_type": "stream",
     "text": [
      "      Producto   Precio\n",
      "0  Auriculares  2248.09\n",
      "1    Impresora  4655.37\n",
      "2       Laptop  2251.09\n",
      "3      Monitor  1638.85\n",
      "4        Mouse  4206.04\n",
      "5   Smartphone  4305.75\n",
      "6       Tablet  4435.18\n",
      "7      Teclado  3085.51\n"
     ]
    }
   ],
   "source": [
    "# calcular las ventas totales por producto y mes\n",
    "ventas_total_producto = df_final.groupby(\"Producto\")[\"Precio\"].sum().reset_index()\n",
    "print(ventas_total_producto)"
   ]
  },
  {
   "cell_type": "code",
   "execution_count": 4,
   "id": "f6cfe6c6",
   "metadata": {},
   "outputs": [
    {
     "name": "stdout",
     "output_type": "stream",
     "text": [
      "      Producto   Precio\n",
      "0    Impresora  4655.37\n",
      "1       Tablet  4435.18\n",
      "2   Smartphone  4305.75\n",
      "3        Mouse  4206.04\n",
      "4      Teclado  3085.51\n",
      "5       Laptop  2251.09\n",
      "6  Auriculares  2248.09\n",
      "7      Monitor  1638.85\n"
     ]
    }
   ],
   "source": [
    "#ordernar de precio mayor a menor\n",
    "ventas_total_producto = ventas_total_producto.sort_values(\"Precio\", ignore_index=True, ascending=False).reset_index(drop=True) # resetear el índice\n",
    "print(ventas_total_producto)"
   ]
  },
  {
   "cell_type": "code",
   "execution_count": 5,
   "id": "984d9779",
   "metadata": {},
   "outputs": [
    {
     "name": "stdout",
     "output_type": "stream",
     "text": [
      "       Mes   Precio\n",
      "0  2025-01  8941.96\n",
      "1  2025-02  8941.96\n",
      "2  2025-03  8941.96\n"
     ]
    }
   ],
   "source": [
    "# calcular las ventas totales por mes\n",
    "ventas_total_mes = df_final.groupby(\"Mes\")[\"Precio\"].sum().reset_index()\n",
    "print(ventas_total_mes)"
   ]
  },
  {
   "cell_type": "code",
   "execution_count": 6,
   "id": "cdea8614",
   "metadata": {},
   "outputs": [
    {
     "name": "stdout",
     "output_type": "stream",
     "text": [
      "       Producto      Mes   Precio\n",
      "0   Auriculares  2025-01  1759.34\n",
      "1   Auriculares  2025-02   488.75\n",
      "2     Impresora  2025-01  1267.07\n",
      "3     Impresora  2025-02  2393.83\n",
      "4     Impresora  2025-03   994.47\n",
      "5        Laptop  2025-01   704.62\n",
      "6        Laptop  2025-02   265.06\n",
      "7        Laptop  2025-03  1281.41\n",
      "8       Monitor  2025-01   362.93\n",
      "9       Monitor  2025-02   615.58\n",
      "10      Monitor  2025-03   660.34\n",
      "11        Mouse  2025-01  1720.97\n",
      "12        Mouse  2025-02  1157.25\n",
      "13        Mouse  2025-03  1327.82\n",
      "14   Smartphone  2025-01   858.71\n",
      "15   Smartphone  2025-02   489.18\n",
      "16   Smartphone  2025-03  2957.86\n",
      "17       Tablet  2025-01  1269.11\n",
      "18       Tablet  2025-02  2008.82\n",
      "19       Tablet  2025-03  1157.25\n",
      "20      Teclado  2025-01   999.21\n",
      "21      Teclado  2025-02  1523.49\n",
      "22      Teclado  2025-03   562.81\n"
     ]
    }
   ],
   "source": [
    "# calcular las ventas totales por producto y mes\n",
    "ventas_total_producto_mes = df_final.groupby([\"Producto\", \"Mes\"])[\"Precio\"].sum().reset_index()\n",
    "print(ventas_total_producto_mes)\n"
   ]
  },
  {
   "cell_type": "code",
   "execution_count": 7,
   "id": "ef86d88f",
   "metadata": {},
   "outputs": [
    {
     "name": "stdout",
     "output_type": "stream",
     "text": [
      "   Region   Precio\n",
      "0    Este  7336.26\n",
      "1   Norte  6045.69\n",
      "2   Oeste  5377.39\n",
      "3     Sur  4060.30\n",
      "4  Centro  4006.24\n"
     ]
    }
   ],
   "source": [
    "# ventas totales por region\n",
    "ventas_total_region = df_final.groupby(\"Region\")[\"Precio\"].sum().reset_index()\n",
    "# ordenar de precio mayor a menor\n",
    "ventas_total_region = ventas_total_region.sort_values(\"Precio\", ignore_index=True, ascending=False).reset_index(drop=True) # resetear el índice\n",
    "print(ventas_total_region)"
   ]
  }
 ],
 "metadata": {
  "kernelspec": {
   "display_name": "Python 3",
   "language": "python",
   "name": "python3"
  },
  "language_info": {
   "codemirror_mode": {
    "name": "ipython",
    "version": 3
   },
   "file_extension": ".py",
   "mimetype": "text/x-python",
   "name": "python",
   "nbconvert_exporter": "python",
   "pygments_lexer": "ipython3",
   "version": "3.12.2"
  }
 },
 "nbformat": 4,
 "nbformat_minor": 5
}
