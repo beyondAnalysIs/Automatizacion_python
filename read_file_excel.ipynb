{
 "cells": [
  {
   "cell_type": "code",
   "execution_count": null,
   "id": "1d2317d6",
   "metadata": {},
   "outputs": [],
   "source": [
    "import pandas as pd\n",
    "\n",
    "#leer archivo excel\n",
    "\n",
    "df = pd.read_excel(r'C:\\Users\\ander\\Escritorio\\PYTHON\\Python 2025\\Automatizacion_python\\mi_env\\datos_excel\\datos_ventas_enero.xlsx')\n",
    "\n",
    "# Mostrar las primeras filas del DataFrame\n",
    "print(df.head())\n"
   ]
  },
  {
   "cell_type": "code",
   "execution_count": null,
   "id": "c8b1dd91",
   "metadata": {},
   "outputs": [],
   "source": [
    "  # Escribir el DataFrame a un archivo excel\n",
    "  \n",
    "df['Total_2'] = df['Precio'] * df['Cantidad']\n",
    "\n",
    "# Guardar el DataFrame en un archivo excel\n",
    "df.to_excel(r'C:\\Users\\ander\\Escritorio\\PYTHON\\Python 2025\\Automatizacion_python\\mi_env\\datos_excel\\ventas_enero_actualizado.xlsx', index=False)\n",
    "\n",
    "# Mostrar el DataFrame actualizado\n",
    "print(df.head())\n",
    "\n"
   ]
  },
  {
   "cell_type": "code",
   "execution_count": null,
   "id": "2c761bf8",
   "metadata": {},
   "outputs": [],
   "source": [
    "#eliminar una columna\n",
    "df.drop(columns=['Total_2'], inplace=True) # inplace=True modifica el DataFrame original \n",
    "# Guardar el DataFrame en un archivo excel\n",
    "df.to_excel(r'C:\\Users\\ander\\Escritorio\\PYTHON\\Python 2025\\Automatizacion_python\\mi_env\\datos_excel\\ventas_enero_actualizado.xlsx', index=False)\n",
    "# Mostrar el DataFrame actualizado \n",
    "print(df.head())"
   ]
  },
  {
   "cell_type": "code",
   "execution_count": null,
   "id": "a5f6fb1d",
   "metadata": {},
   "outputs": [],
   "source": [
    "# leer una hoja específica de un archivo excel\n",
    "df_datos = pd.read_excel(\n",
    "    r'C:\\Users\\ander\\Escritorio\\PYTHON\\Python 2025\\Automatizacion_python\\mi_env\\restaurante.xlsx', \n",
    "    sheet_name='Datos'\n",
    ")  \n",
    "\n",
    "print(df_datos.head())"
   ]
  },
  {
   "cell_type": "code",
   "execution_count": null,
   "id": "a3667df1",
   "metadata": {},
   "outputs": [],
   "source": [
    "# Leer todas las hojas de un archivo excel  \n",
    "df_todas_hojas = pd.read_excel(\n",
    "    r'C:\\Users\\ander\\Escritorio\\PYTHON\\Python 2025\\Automatizacion_python\\mi_env\\restaurante.xlsx', \n",
    "    sheet_name=None\n",
    ")\n",
    "# Mostrar los nombres de las hojas\n",
    "print(df_todas_hojas.keys())\n",
    "# Mostrar el contenido de la hoja 'Datos'   \n",
    "print(df_todas_hojas['Menu Comida'].head())\n",
    "print(df_todas_hojas['Menu Bebida'].head())\n",
    "\n"
   ]
  },
  {
   "cell_type": "code",
   "execution_count": null,
   "id": "8e723bd6",
   "metadata": {},
   "outputs": [],
   "source": [
    "# Escribir a multiple hojas en un archivo excel\n",
    "with pd.ExcelWriter(r'C:\\Users\\ander\\Escritorio\\PYTHON\\Python 2025\\Automatizacion_python\\mi_env\\restaurante_informe_completo.xlsx') as writer:\n",
    "    df_datos.to_excel(writer, sheet_name='Datos', index=False)\n",
    "    df_todas_hojas['Menu Comida'].to_excel(writer, sheet_name='Menu Comida', index=False) #index=False para no incluir el índice\n",
    "    df_todas_hojas['Menu Bebida'].to_excel(writer, sheet_name='Menu Bebida', index=False) \n",
    "    print(\"Archivo Excel creado con éxito con múltiples hojas.\")\n"
   ]
  }
 ],
 "metadata": {
  "kernelspec": {
   "display_name": "mi_env",
   "language": "python",
   "name": "python3"
  },
  "language_info": {
   "codemirror_mode": {
    "name": "ipython",
    "version": 3
   },
   "file_extension": ".py",
   "mimetype": "text/x-python",
   "name": "python",
   "nbconvert_exporter": "python",
   "pygments_lexer": "ipython3",
   "version": "3.12.2"
  }
 },
 "nbformat": 4,
 "nbformat_minor": 5
}
