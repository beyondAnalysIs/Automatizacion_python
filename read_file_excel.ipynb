{
 "cells": [
  {
   "cell_type": "code",
   "execution_count": 45,
   "id": "1d2317d6",
   "metadata": {},
   "outputs": [
    {
     "name": "stdout",
     "output_type": "stream",
     "text": [
      "     ID       Fecha Producto    Categoria  Region      Vendedor  Cantidad  \\\n",
      "0  1001  2025-01-27   Tablet   Accesorios  Centro  Ana Martínez         7   \n",
      "1  1002  2025-01-01   Laptop  Electrónica  Centro    Juan Pérez         4   \n",
      "2  1003  2025-01-15   Tablet  Informática    Este    Juan Pérez         8   \n",
      "3  1004  2025-01-17    Mouse  Electrónica  Centro    Juan Pérez         5   \n",
      "4  1005  2025-01-31  Teclado   Accesorios   Norte    Juan Pérez         7   \n",
      "\n",
      "   Precio  \n",
      "0  263.64  \n",
      "1  265.06  \n",
      "2  373.82  \n",
      "3  572.28  \n",
      "4  488.75  \n"
     ]
    }
   ],
   "source": [
    "import pandas as pd\n",
    "\n",
    "#leer archivo excel\n",
    "df = pd.read_excel(r'C:\\Users\\ander\\Escritorio\\PYTHON\\Python 2025\\Automatizacion_python\\mi_env\\datos_excel\\datos_ventas_enero.xlsx')\n",
    "\n",
    "# Mostrar las primeras filas del DataFrame\n",
    "print(df.head())"
   ]
  },
  {
   "cell_type": "code",
   "execution_count": 47,
   "id": "c8b1dd91",
   "metadata": {},
   "outputs": [
    {
     "name": "stdout",
     "output_type": "stream",
     "text": [
      "     ID       Fecha Producto    Categoria  Region      Vendedor  Cantidad  \\\n",
      "0  1001  2025-01-27   Tablet   Accesorios  Centro  Ana Martínez         7   \n",
      "1  1002  2025-01-01   Laptop  Electrónica  Centro    Juan Pérez         4   \n",
      "2  1003  2025-01-15   Tablet  Informática    Este    Juan Pérez         8   \n",
      "3  1004  2025-01-17    Mouse  Electrónica  Centro    Juan Pérez         5   \n",
      "4  1005  2025-01-31  Teclado   Accesorios   Norte    Juan Pérez         7   \n",
      "\n",
      "   Precio    Total  Total_2  \n",
      "0  263.64  1845.48  1845.48  \n",
      "1  265.06  1060.24  1060.24  \n",
      "2  373.82  2990.56  2990.56  \n",
      "3  572.28  2861.40  2861.40  \n",
      "4  488.75  3421.25  3421.25  \n"
     ]
    }
   ],
   "source": [
    "  # Escribir el DataFrame a un archivo excel\n",
    "  \n",
    "df['Total_2'] = df['Precio'] * df['Cantidad']\n",
    "\n",
    "# Guardar el DataFrame en un archivo excel\n",
    "df.to_excel(r'C:\\Users\\ander\\Escritorio\\PYTHON\\Python 2025\\Automatizacion_python\\mi_env\\datos_excel\\ventas_enero_actualizado.xlsx', index=False)\n",
    "\n",
    "# Mostrar el DataFrame actualizado\n",
    "print(df.head())"
   ]
  },
  {
   "cell_type": "code",
   "execution_count": 48,
   "id": "2c761bf8",
   "metadata": {},
   "outputs": [
    {
     "name": "stdout",
     "output_type": "stream",
     "text": [
      "     ID       Fecha Producto    Categoria  Region      Vendedor  Cantidad  \\\n",
      "0  1001  2025-01-27   Tablet   Accesorios  Centro  Ana Martínez         7   \n",
      "1  1002  2025-01-01   Laptop  Electrónica  Centro    Juan Pérez         4   \n",
      "2  1003  2025-01-15   Tablet  Informática    Este    Juan Pérez         8   \n",
      "3  1004  2025-01-17    Mouse  Electrónica  Centro    Juan Pérez         5   \n",
      "4  1005  2025-01-31  Teclado   Accesorios   Norte    Juan Pérez         7   \n",
      "\n",
      "   Precio    Total  \n",
      "0  263.64  1845.48  \n",
      "1  265.06  1060.24  \n",
      "2  373.82  2990.56  \n",
      "3  572.28  2861.40  \n",
      "4  488.75  3421.25  \n"
     ]
    }
   ],
   "source": [
    "#eliminar una columna\n",
    "df.drop(columns=['Total_2'], inplace=True) # inplace=True modifica el DataFrame original \n",
    "# Guardar el DataFrame en un archivo excel\n",
    "df.to_excel(r'C:\\Users\\ander\\Escritorio\\PYTHON\\Python 2025\\Automatizacion_python\\mi_env\\datos_excel\\ventas_enero_actualizado.xlsx', index=False)\n",
    "# Mostrar el DataFrame actualizado \n",
    "print(df.head())"
   ]
  },
  {
   "cell_type": "code",
   "execution_count": 49,
   "id": "a5f6fb1d",
   "metadata": {},
   "outputs": [
    {
     "name": "stdout",
     "output_type": "stream",
     "text": [
      "   Orden      Fecha Hora de Cobro  Mesa  Atendió    Tipo        Producto  \\\n",
      "0      1 2014-02-01      18:43:12     1  Rodolfo  Bebida          Tecate   \n",
      "1      1 2014-02-01      18:43:12     1  Rodolfo  Bebida          Tisana   \n",
      "2      1 2014-02-01      18:43:12     1  Rodolfo  Bebida  Café americano   \n",
      "3      1 2014-02-01      18:43:12     1  Rodolfo  Bebida       Te helado   \n",
      "4      1 2014-02-01      18:43:12     1  Rodolfo  Comida  Pera Rostizada   \n",
      "\n",
      "           Categoria  Precio  Costo  Propina Tipo de Cliente  \n",
      "0           Cervezas      25  18.00     0.07   Cliente Nuevo  \n",
      "1  Bebida no Alcohol      25  18.00     0.07   Cliente Nuevo  \n",
      "2  Bebida no Alcohol      18  12.60     0.07   Cliente Nuevo  \n",
      "3  Bebida no Alcohol      25  18.50     0.07   Cliente Nuevo  \n",
      "4          Ensaladas      89  75.65     0.07   Cliente Nuevo  \n"
     ]
    }
   ],
   "source": [
    "# leer una hoja específica de un archivo excel\n",
    "df_datos = pd.read_excel(\n",
    "    r'C:\\Users\\ander\\Escritorio\\PYTHON\\Python 2025\\Automatizacion_python\\mi_env\\restaurante.xlsx', \n",
    "    sheet_name='Datos'\n",
    ")  \n",
    "\n",
    "print(df_datos.head())"
   ]
  },
  {
   "cell_type": "code",
   "execution_count": 50,
   "id": "a3667df1",
   "metadata": {},
   "outputs": [
    {
     "name": "stdout",
     "output_type": "stream",
     "text": [
      "dict_keys(['Ventas Bebidas', 'Datos', 'Menu Comida', 'Menu Bebida', 'Datos del Restaurant', 'Amañado'])\n",
      "               Producto      Tipo  Precio      Costo  Unnamed: 4     Tipo.1\n",
      "0  Brochetas Hawaiianas  Entradas      74  64.347826         NaN   Entradas\n",
      "1       Camarones Momia  Entradas      75  65.217391         NaN      Tacos\n",
      "2  Espárragos Envueltos  Entradas      78  67.826087         NaN     Pizzas\n",
      "3  Mejillones Horneados  Entradas      75  65.217391         NaN  Ensaladas\n",
      "4      Panela a la Leña  Entradas      53  46.086957         NaN     Pastas\n",
      "    Producto               Tipo  Precio  Costo  Unnamed: 4             Tipo.1\n",
      "0   Refresco  Bebida no Alcohol      20  16.00         NaN  Bebida no Alcohol\n",
      "1   Limonada  Bebida no Alcohol      25  20.00         NaN           Cervezas\n",
      "2  Naranjada  Bebida no Alcohol      25  18.25         NaN              Vinos\n",
      "3     Tisana  Bebida no Alcohol      25  18.00         NaN                NaN\n",
      "4  Te helado  Bebida no Alcohol      25  18.50         NaN                NaN\n"
     ]
    }
   ],
   "source": [
    "# Leer todas las hojas de un archivo excel  \n",
    "df_all_sheet = pd.read_excel(\n",
    "    r'C:\\Users\\ander\\Escritorio\\PYTHON\\Python 2025\\Automatizacion_python\\mi_env\\restaurante.xlsx', \n",
    "    sheet_name=None\n",
    ")\n",
    "# Mostrar los nombres de las hojas\n",
    "print(df_all_sheet.keys())\n",
    "# Mostrar el contenido de la hoja 'Datos'   \n",
    "print(df_all_sheet['Menu Comida'].head())\n",
    "print(df_all_sheet['Menu Bebida'].head())"
   ]
  },
  {
   "cell_type": "code",
   "execution_count": 51,
   "id": "8e723bd6",
   "metadata": {},
   "outputs": [
    {
     "name": "stdout",
     "output_type": "stream",
     "text": [
      "Archivo Excel creado con éxito con múltiples hojas.\n"
     ]
    }
   ],
   "source": [
    "# Escribir a multiples hojas en un archivo excel\n",
    "with pd.ExcelWriter(r'C:\\Users\\ander\\Escritorio\\PYTHON\\Python 2025\\Automatizacion_python\\mi_env\\restaurante_informe_completo.xlsx') as writer:\n",
    "    df_datos.to_excel(writer, sheet_name='Datos', index=False)\n",
    "    df_all_sheet['Menu Comida'].to_excel(writer, sheet_name='Menu Comida', index=False) #index=False para no incluir el índice\n",
    "    df_all_sheet['Menu Bebida'].to_excel(writer, sheet_name='Menu Bebida', index=False) \n",
    "    print(\"Archivo Excel creado con éxito con múltiples hojas.\")"
   ]
  }
 ],
 "metadata": {
  "kernelspec": {
   "display_name": "mi_env",
   "language": "python",
   "name": "python3"
  },
  "language_info": {
   "codemirror_mode": {
    "name": "ipython",
    "version": 3
   },
   "file_extension": ".py",
   "mimetype": "text/x-python",
   "name": "python",
   "nbconvert_exporter": "python",
   "pygments_lexer": "ipython3",
   "version": "3.12.2"
  }
 },
 "nbformat": 4,
 "nbformat_minor": 5
}
